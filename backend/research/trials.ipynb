{
 "cells": [
  {
   "cell_type": "code",
   "execution_count": 1,
   "metadata": {},
   "outputs": [],
   "source": [
    "from langchain.document_loaders import PyPDFLoader, DirectoryLoader\n",
    "from langchain.text_splitter import RecursiveCharacterTextSplitter"
   ]
  },
  {
   "cell_type": "code",
   "execution_count": 3,
   "metadata": {},
   "outputs": [
    {
     "name": "stdout",
     "output_type": "stream",
     "text": [
      "Length of extracted data 637\n",
      "[Document(metadata={'source': '..\\\\data\\\\medical_book.pdf', 'page': 99}, page_content='number of copies of HIV nucleic acids. Successive test\\nresults for a given patient’s viral load are calculated on a\\nbase 10 logarithmic scale.\\nBETA2-MICROGLOBULIN (/H92522M). Beta2-microglobulin\\nis a protein found on the surface of all human cells with\\na nucleus. It is released into the blood when a cell dies.\\nAlthough rising blood levels of /H92522M are found in\\npatients with cancer and other serious diseases, a rising\\n/H92522M blood level can be used to measure the progression\\nof AIDS.\\nP24 ANTIGEN CAPTURE ASSAY. Found in the viral\\ncore of HIV , p24 is a protein that can be measured by\\nthe ELISA technique. Doctors can use p24 assays to\\nmeasure the antiviral activity of the patient’s medica-\\ntions. In addition, the p24 assay is sometimes useful in\\ndetecting HIV infection before seroconversion. Howev-\\ner, p24 is consistently present in only 25% of persons\\ninfected with HIV .\\nGENOTYPIC DRUG RESISTANCE TEST. Genotypic\\ntesting can help determine whether specific gene muta-\\ntions, common in people with HIV , are causing drug\\nresistance and drug failure. The test looks for specific\\ngenetic mutations of within the virus that are known to\\ncause resistance to certain drugs used in HIV treatment.\\nFor example the drug 3TC, also known as lamivudine\\n(Epivir), is not effective against strains of HIV that have\\na mutation at a particular position on the reverse tran-\\nscriptase protein—amino acid 184—known as M184V\\n(M/L50478V , methionine to valine). So if the genotypic resis-\\ntance test shows a mutation at position M184V , it is like-\\nly that person is resistant to 3TC and not likely to\\nrespond to 3TC treatment. Genotypic tests are only\\neffective if the person is already taking antiviral medica-\\ntion and if the viral load is greater than 1,000 copies per\\nmilliliter (mL) of blood. The cost of the test, usually\\nbetween $300 and $500, is usually now covered by\\nmany insurance plans.\\nPHENOTYPIC DRUG RESISTANCE TESTING. Pheno-\\ntypic testing directly measures the sensitivity of a\\npatient’s HIV to particular drugs and drug combinations.\\nTo do this, it measures the concentration of a drug\\nrequired to inhibit viral replication in the test tube. This\\nis the same method used by researchers to determine\\nwhether a drug might be effective against HIV before\\nusing it in human clinical trials. Phenotypic testing is a\\nmore direct measurement of resistance than genotypic\\ntesting. Also, unlike genotypic testing, phenotypic test-\\ning does not require a high viral load but it is recom-\\nmended that persons already be taking antiretroviral\\ndrugs. The cost is between $700 and $900 and is now\\ncovered by many insurance plans.\\nAIDS serology in children\\nChildren born to HIV-infected mothers may acquire\\nthe infection through the mother’s placenta or during the\\nbirth process. Public health experts recommend the test-\\ning and monitoring of all children born to mothers with\\nHIV . Diagnostic testing in children older than 18 months\\nis similar to adult testing, with ELISA screening con-\\nfirmed by Western blot. Younger infants can be diagnosed\\nby direct culture of the HIV virus, PCR testing, and p24\\nantigen testing. These techniques allow a pediatrician to\\nidentify 50% of infected children at or near birth, and\\n95% of cases in infants three to six months of age.\\nPreparation\\nPreparation and aftercare are important parts of AIDS\\ndiagnostic testing. Doctors are now advised to take the\\npatient’s emotional, social, economic, and other circum-\\nstances into account and to provide counseling before and\\nafter testing. Patients are generally better able to cope with\\nthe results if the doctor has spent some time with them\\nbefore the blood test explaining the basic facts about HIV\\ninfection and testing. Many doctors now offer this type of\\ninformational counseling before performing the tests.\\nAftercare\\nIf the test results indicate that the patient is HIV- pos-\\nitive, he or she will need counseling, information, referral\\nfor treatment, and support. Doctors can either counsel the\\npatient themselves or invite an experienced HIV coun-\\nselor to discuss the results of the blood tests with the\\npatient. They will also assess the patient’s emotional and\\npsychological status, including the possibility of violent\\nbehavior and the availability of a support network.\\nRisks\\nThe risks of AIDS testing are primarily related to\\ndisclosure of the patient’s HIV status rather than to any\\nphysical risks connected with blood testing. Some\\npatients are better prepared to cope with a positive diag-\\nnosis than others, depending on their age, sex, health,\\nresources, belief system, and similar factors.\\nNormal results\\nNormal results for ELISA, Western blot, IFA, and\\nPCR testing are negative for HIV antibody.\\nNormal results for blood cell counts:\\n• WBC differential: Total lymphocytes 24-44% of the\\nwhite blood cells.\\n• Hematocrit: 40-54% in men; 37-47% in women.\\nGALE ENCYCLOPEDIA OF MEDICINE 286\\nAIDS tests\\nGEM - 0001 to 0432 - A  10/22/03 1:41 PM  Page 86'), Document(metadata={'source': '..\\\\data\\\\medical_book.pdf', 'page': 100}, page_content='• T cell lymphocytes: 644-2200/mm\\n3\\n, 60-88% of all lym-\\nphocytes.\\n• B cell lymphocytes: 82-392/mm\\n3\\n, 3-20% of all lympho-\\ncytes.\\n• CD4+ lymphocytes: 500-1200/mm\\n3\\n, 34-67% of all\\nlymphocytes.\\nAbnormal results\\nThe following results in AIDS tests indicate progres-\\nsion of the disease:\\n• Percentage of CD4+ lymphocytes: less than 20% of all\\nlymphocytes.\\n• CD4+ lymphocyte count: less than 200 cells/mm\\n3\\n.\\n• Viral load test: Levels more than 5000 copies/mL.\\n•/H9252-2-microglobulin: Levels more than 3.5 mg/dL.\\n• P24 antigen: Measurable amounts in blood serum.\\nResources\\nBOOKS\\nAvrameas, Stratis, and Therese Ternynck. “Enzyme Linked\\nImmunosorbent Assay (ELISA).” In Encyclopedia of\\nImmunology.V ol. 1. Ed. Ivan M. Roitt and Peter J. Delves.\\nLondon: Academic Press, 1992.\\nBennett, Rebecca, and Erin, Charles A. (Editors). HIV and\\nAIDS Testing, Screening, and Confidentiality: Ethics, Law,\\nand Social Policy.Oxford, England: Oxford University\\nPress, 2001.\\nEarly HIV Infection Guideline Panel. Evaluation and Manage-\\nment of Early HIV Infection. Rockville, MD: U.S. Depart-\\nment of Health and Human Services, Agency for Health\\nCare Policy and Research, 1994.\\nHuber, Jeffrey T. Dictionary of AIDS- Related Terminology.\\nNew York: Neal-Schuman Publishers, Inc., 1993.\\n“Infectious Diseases: Human Immunodeficiency Virus (HIV).”\\nIn Neonatology: Management, Procedures, On-Call Prob-\\nlems, Diseases and Drugs. Ed. Tricia Lacy Gomella et al.\\nNorwalk, CT: Appleton & Lange, 1994.\\nKatz, Mitchell H., and Harry Hollander. “HIV Infection.” In\\nCurrent Medical Diagnosis & Treatment.Ed. Lawrence\\nM. Tierney et al. Stamford, CT: Appleton & Lange, 1998.\\nMcClure, Myra. “Human Immunodeficiency Viruses.” In Ency-\\nclopedia of Immunology.V ol. 2. Ed. by Ivan M. Roitt and\\nPeter J. Delves. London: Academic Press, 1992.\\nMcFarland, Elizabeth J. “Human Immunodeficiency Virus\\n(HIV) Infections: Acquired Immunodeficiency Syndrome\\n(AIDS).” In Current Pediatric Diagnosis & Treatment.Ed.\\nWilliam W. Hay et al. Stamford, CT: Appleton & Lange,\\n1997.\\nSo, Peter, and Livette Johnson. “Acquired Immune Deficiency\\nSyndrome (AIDS).” In Conn’s Current Therapy.Ed.\\nRobert E. Rakel. Philadelphia: W. B. Saunders Company,\\n1997.\\nSpringhouse Publishing. Handbook of Diagnostic Tests.\\nSpringhouse, PA: Springhouse Publishing Co., 1999.\\nTowbin, Harry. “Western Blotting.” In Encyclopedia of\\nImmunology.V ol. 3. Ed. Ivan M. Roitt and Peter J. Delves.\\nLondon: Academic Press, 1992.\\nPERIODICALS\\nFreedberg, Kenneth A., and Samet, Jeffrey H. “Think HIV\\n(HIV Testing).”Archives of Internal Medicine (September\\n27, 1999): 1994\\nKaplan, Edward H., and Satten, Glen A. “Repeat Screening for\\nHIV: When to Test and Why.”The Journal of the Ameri-\\ncan Medical Association. (July 19, 2000): 285.\\nSieff, Elaine M., et al. “Anticipated Versus Actual Reaction to\\nHIV Test Results.”American Journal of Psychology.\\n(Summer 1999): 297-298.\\nWeinhardt, Lance S., et al. “Human Immunodeficiency Virus\\nTesting and Behavior Change.”Archives of Internal Medi-\\ncine. (May 22, 2000): 1538.\\nWoehrle, Theresa A., and Branson, Bernard. “New Tests for\\nDetecting HIV Infection.”The Western Journal of Medi-\\ncine. (December 1998): 371-372.\\nORGANIZATION\\nNational Association of People with Aids. 1413 K St.N.W.,\\nWashington, DC 20005-3442. (202) 898-0414.\\nNational Institute of Health. Office of Aids Research. (301)\\n496-0357. <http://www.nih.gov/od/oar/index.htm>.\\nCenters for Disease Control and Prevention (CDC). 1600\\nClifton Rd., Atlanta, GA 30337. (404) 639-3311. <http://\\nwww.cdc.gov>.\\nOTHER\\nFood and Drug Administration (FDA). “Testing Yourself for\\nHIV-1, the Virus that Causes AIDS.” 1999. Available at\\nFDA Website: <http://www.fda.gov>. or by calling (301)\\n827-4460.\\nKen R. Wells\\nAir embolism see Gas embolism\\nAlanine aminotransferase test\\nDefinition\\nThe alanine aminotransferase test, also known as\\nALT, is one of a group of tests known as liver function\\ntests (or LFTs) and is used to monitor damage to the liver.\\nPurpose\\nALT levels are used to detect liver abnormalities.\\nSince the alanine aminotransferase enzyme is also found\\nin muscle, tests indicating elevated AST levels might also\\nindicate muscle damage. However, other tests, such as\\nGALE ENCYCLOPEDIA OF MEDICINE 2 87\\nAlanine aminotransferase test\\nGEM - 0001 to 0432 - A  10/22/03 1:41 PM  Page 87'), Document(metadata={'source': '..\\\\data\\\\medical_book.pdf', 'page': 101}, page_content='the levels of the MB fraction of creatine kinase should\\nindicate whether the abnormal test levels are because of\\nmuscle or liver damage.\\nDescription\\nThe alanine aminotransferase test (ALT) can reveal\\nliver damage. It is probably the most specific test for\\nliver damage. However, the severity of the liver damage\\nis not necessarily shown by the ALT test, since the\\namount of dead liver tissue does not correspond to higher\\nALT levels. Also, patients with normal, or declining,\\nALT levels may experience serious liver damage without\\nan increase in ALT.\\nNevertheless, ALT is widely used, and useful,\\nbecause ALT levels are elevated in most patients with\\nliver disease. Although ALT levels do not necessarily\\nindicate the severity of the damage to the liver, they may\\nindicate how much of the liver has been damaged. ALT\\nlevels, when compared to the levels of a similar enzyme,\\naspartate aminotransferase (AST), may provide impor-\\ntant clues to the nature of the liver disease. For example,\\nwithin a certain range of values, a ratio of 2:1 or greater\\nfor AST: ALT might indicate that a patient suffers from\\nalcoholic liver disease. Other diagnostic data may be\\ngleaned from ALT tests to indicate abnormal results.\\nPreparation\\nNo special preparations are necessary for this test.\\nAftercare\\nThis test involves blood being drawn, probably from\\na vein in the patient’s elbow. The patient should keep the\\nwound from the needle puncture covered (with a ban-\\ndage) until the bleeding stops. Patients should report any\\nunusual symptoms to their physician.\\nNormal results\\nNormal values vary from laboratory to laboratory,\\nand should be available to your physician at the time of\\nthe test. An informal survey of some laboratories indi-\\ncates many laboratories find values from approximately\\nseven to 50 IU/L to be normal.\\nAbnormal results\\nLow levels of ALT (generally below 300 IU/L) may\\nindicate any kind of liver disease. Levels above 1,000\\nIU/L generally indicate extensive liver damage from tox-\\nins or drugs, viral hepatitis, or a lack of oxygen (usually\\nresulting from very low blood pressure or a heart\\nattack). A briefly elevated ALT above 1,000 IU/L that\\nresolves in 24-48 hours may indicate a blockage of the\\nbile duct. More moderate levels of ALT (300-1,000IU/L)\\nmay support a diagnosis of acute or chronic hepatitis.\\nIt is important to note that persons with normal liv-\\ners may have slightly elevated levels of ALT. This is a\\nnormal finding.\\nMichael V . Zuck, PhD\\nAlanine aminotransferase test see Liver\\nfunction tests\\nAlbers-Schönberg disease see\\nOsteopetroses\\nAlbinism\\nDefinition\\nAlbinism is an inherited condition present at birth,\\ncharacterized by a lack of pigment that normally gives\\ncolor to the skin, hair, and eyes. Many types of albinism\\nexist, all of which involve lack of pigment in varying\\ndegrees. The condition, which is found in all races, may\\nbe accompanied by eye problems and may lead to skin\\ncancerlater in life.\\nDescription\\nAlbinism is a rare disorder found in fewer than five\\npeople per 100,000 in the United States and Europe.\\nOther parts of the world have a much higher rate; for\\nexample, albinism is found in about 20 out of every\\n100,000 people in southern Nigeria.\\nThere are 10 types of the most common form of the\\ncondition, known as “oculocutaneous albinism,” which\\naffects the eyes, hair, and skin. In its most severe form,\\nhair and skin remain pure white throughout life. People\\nwith a less severe form are born with white hair and\\nskin, which turn slightly darker as they age. Everyone\\nwith oculocutaneous albinism experiences abnormal\\nflickering eye movements (nystagmus ) and sensitivity\\nto bright light. There may be other eye problems as\\nwell, including poor vision and crossed or “lazy” eyes\\n(strabismus).\\nThe second most common type of the condition is\\nknown as “ocular” albinism, in which only the eyes lack\\ncolor; skin and hair are normal. There are five forms of\\nocular albinism; some types cause more problems—\\nespecially eye problems—than others.\\nGALE ENCYCLOPEDIA OF MEDICINE 288\\nAlbinism\\nGEM - 0001 to 0432 - A  10/22/03 1:41 PM  Page 88'), Document(metadata={'source': '..\\\\data\\\\medical_book.pdf', 'page': 102}, page_content='Causes and symptoms\\nEvery cell in the body contains a matched pair of\\ngenes, one inherited from each parent. These genes act as a\\nsort of “blueprint” that guides the development of a fetus.\\nAlbinism is an inherited problem caused by a flaw in\\none or more of the genes that are responsible for direct-\\ning the eyes and skin to make melanin (pigment). As a\\nresult, little or no pigment is made, and the child’s skin,\\neyes and hair may be colorless.\\nIn most types of albinism, a recessive trait, the child\\ninherits flawed genes for making melanin from both par-\\nents. Because the task of making melanin is complex,\\nthere are many different types of albinism, involving a\\nnumber of different genes.\\nIt’s also possible to inherit one normal gene and one\\nalbinism gene. In this case, the one normal gene provides\\nenough information in its cellular blueprint to make\\nsome pigment, and the child will have normal skin and\\neye color. They “carry” one gene for albinism. About one\\nin 70 people are albinism carriers, with one flawed gene\\nbut no symptoms; they have a 50% chance of passing the\\nalbinism gene to their child. However, if both parents are\\nKEY TERMS\\nAmino acids —Natural substances that are the\\nbuilding blocks of protein. The body breaks down\\nthe protein in food into amino acids, and then uses\\nthese amino acids to create other proteins. The body\\nalso changes amino acids into melanin pigment.\\nAstigmatism —An eye condition in which the lens\\ndoesn’t focus light evenly on the retina, leading to\\nproblems with visual sharpness.\\nCarrier —A person with one normal gene and one\\nfaulty gene, who can pass on a condition to others\\nwithout actually having symptoms.\\nDNA—The abbreviation for “deoxyribonucleic\\nacid,” the primary carrier of genetic information\\nfound in the chromosomes of almost all organisms.\\nThe entwined double structure allows the chromo-\\nsomes to be copied exactly during cell division.\\nDOPA—The common name for a natural chemical\\n(3,4-dihydroxyphenylalanine) made by the body\\nduring the process of making melanin.\\nEnzyme—A protein that helps the body convert one\\nchemical substance to another.\\nGene—The basic unit of genetic material carried in\\na particular place on a chromosome. Genes are\\npassed on from parents to child when the sperm\\nand egg unite during conception.\\nHairbulb —The root of a strand of hair from which\\nthe color develops.\\nHermansky-Pudlak Syndrome (HPS) —A rare type\\nof albinism characterized by a problem with blood\\nclotting and a buildup of waxy material in lungs\\nand intestines.\\nMelanin—Pigment made in the hair, skin and eyes.\\nNystagmus—An involuntary back-and-forth move-\\nment of the eyes that is often found in albinism.\\nStrabismus—Crossed or “lazy” eyes, often found in\\nalbinism.\\nTyrosine—A protein building block found in a wide\\nvariety of foods that is used by the body to make\\nmelanin.\\nTyrosinase—An enzyme in a pigment cell which\\nhelps change tyrosine to DOPA during the process\\nof making melanin.\\ncarriers with one flawed gene each, they have a 1 in 4\\nchance of passing on both copies of the flawed gene to\\nthe child, who will have albinism. (There is also a type of\\nocular albinism that is carried on the X chromosome and\\noccurs almost exclusively in males because they have\\nonly one X chromosome and, therefore, no other gene for\\nthe trait to override the flawed one.)\\nSymptoms of albinism can involve the skin, hair,\\nand eyes. The skin, because it contains little pigment,\\nappears very light, as does the hair.\\nAlthough people with albinism may experience a vari-\\nety of eye problems, one of the myths about albinism is that\\nit causes people to have pink or red eyes. In fact, people\\nwith albinism can have irises varying from light gray or\\nblue to brown. (The iris is the colored portion of the eye\\nthat controls the size of the pupil, the opening that lets light\\ninto the eye.) If people with albinism seem to have reddish\\neyes, it’s because light is being reflected from the back of\\nthe eye (retina) in much the same way as happens when\\npeople are photographed with an electronic flash.\\nPeople with albinism may have one or more of the\\nfollowing eye problems:\\nGALE ENCYCLOPEDIA OF MEDICINE 2 89\\nAlbinism\\nGEM - 0001 to 0432 - A  10/22/03 1:41 PM  Page 89'), Document(metadata={'source': '..\\\\data\\\\medical_book.pdf', 'page': 103}, page_content='• They may be very far-sighted or near-sighted, and may\\nhave other defects in the curvature of the lens of the eye\\n(astigmatism) that cause images to appear unfocused.\\n• They may have a constant, involuntary movement of\\nthe eyeball called nystagmus.\\n• They may have problems in coordinating the eyes in fix-\\ning and tracking objects (strabismus), which may lead to\\nan appearance of having “crossed eyes” at times. Stra-\\nbismus may cause some problems with depth percep-\\ntion, especially at close distances.\\n• They may be very sensitive to light (photophobia)\\nbecause their irises allow “stray” light to enter their eyes.\\nIt’s a common misconception that people with albinism\\nshouldn’t go out on sunny days, but wearing sunglasses\\ncan make it possible to go outside quite comfortably.\\nIn addition to the characteristically light skin and\\neye problems, people with a rare form of albinism called\\nHermansky-Pudlak Syndrome (HPS) also have a greater\\ntendency to have bleeding disorders, inflammation of the\\nlarge bowel (colitis), lung (pulmonary) disease, and kid-\\nney (renal) problems.\\nDiagnosis\\nIt’s not always easy to diagnose the exact type of\\nalbinism a person has; there are two tests available that\\ncan identify only two types of the condition. Recently, a\\nblood test has been developed that can identify carriers\\nof the gene for some types of albinism; a similar test dur-\\ning amniocentesis can diagnose some types of albinism\\nin an unborn child. A chorionic villus sampling test dur-\\ning the fifth week of pregnancy may also reveal some\\ntypes of albinism.\\nThe specific type of albinism a person has can be\\ndetermined by taking a good family history and examin-\\ning the patient and several close relatives.\\nThe “hairbulb pigmentation test” is used to identify\\ncarriers by incubating a piece of the person’s hair in a\\nsolution of tyrosine, a substance in food which the body\\nuses to make melanin. If the hair turns dark, it means the\\nhair is making melanin (a “positive” test); light hair\\nmeans there is no melanin. This test is the source of the\\nnames of two types of albinism: “ty-pos” and “ty-neg.”\\nThe tyrosinase test is more precise than the hairbulb\\npigmentation test. It measures the rate at which hair con-\\nGALE ENCYCLOPEDIA OF MEDICINE 290\\nAlbinism\\nA man with albinism stands with his normally pigmented father.(Photograph by Norman Lightfoot, Photo Researchers, Inc.\\nReproduced by permission.)\\nGEM - 0001 to 0432 - A  10/22/03 1:41 PM  Page 90'), Document(metadata={'source': '..\\\\data\\\\medical_book.pdf', 'page': 104}, page_content='verts tyrosine into another chemical (DOPA), which is\\nthen made into pigment. The hair converts tyrosine with\\nthe help of a substance called “tyrosinase.” In some types\\nof albinism, tyrosinase doesn’t do its job, and melanin\\nproduction breaks down.\\nTreatment\\nThere is no treatment that can replace the lack of\\nmelanin that causes the symptoms of albinism. Doctors\\ncan only treat, not cure, the eye problems that often\\naccompany the lack of skin color. Glasses are usually\\nneeded and can be tinted to ease pain from too much\\nsunlight. There is no cure for involuntary eye movements\\n(nystagmus), and treatments for focusing problems\\n(surgery or contact lenses) are not effective in all cases.\\nCrossed eyes (strabismus) can be treated during\\ninfancy, using eye patches, surgery or medicine injec-\\ntions. Treatment may improve the appearance of the\\neye, but it can do nothing to cure the underlying con-\\ndition.\\nPatients with albinism should avoid excessive expo-\\nsure to the sun, especially between 10 A.M. and 2 P.M.I f\\nexposure can’t be avoided, they should use UV A-UVB\\nsunblocks with an SPF of at least 20. Taking beta-\\ncarotene may help provide some skin color, although it\\ndoesn’t protect against sun exposure.\\nPrognosis\\nIn the United States, people with this condition\\ncan expect to have a normal lifespan. People with\\nalbinism may experience some social problems\\nbecause of a lack of understanding on the part of oth-\\ners. When a member of a normally dark-skinned ethnic\\ngroup has albinism, he or she may face some very\\ncomplex social challenges.\\nOne of the greatest health hazards for people with\\nalbinism is excessive exposure to sun without protec-\\ntion, which could lead to skin cancer. Wearing opaque\\nclothes and sunscreen rated SPF 20, people with\\nalbinism can safely work and play outdoors safely even\\nduring the summer.\\nPrevention\\nGenetic counseling is very important to prevent fur-\\nther occurrences of the condition.\\nResources\\nBOOKS\\nNational Association for the Visually Handicapped. Larry: A\\nBook for Children with Albinism Going to School.New\\nYork: National Association for the Visually Handicapped.\\nWitkop Jr., C. J., W. C. Quevedo Jr., T. B. Fitzpatrick, and R. A\\nKing. “Albinism.” In The Metabolic Basis of Inherited\\nDisease. 6th ed. Ed. C. R. Scriver, et al. New York:\\nMcGraw-Hill, 1989.\\nPERIODICALS\\nCampbell, Maude. “Gene Found for Albinism, Other Pigment\\nDisorders.” Dermatology Times (1 Apr. 1995): 1.\\nSiegel-Itzkovich, Judy. “Early-warning Test for Albinism.”\\nJerusalem Post(4 Dec. 1994).\\nORGANIZATIONS\\nAlbinism World Alliance. <http://www.albinism.org/awa.html>.\\nAmerican Foundation for the Blind. 15 W. 16th St., New York,\\nNY 10011. (800) AFB-LIND.\\nHermansky-Pudlak Syndrome Network, Inc. One South Road,\\nOyster Bay, NY 11771-1905. (800) 789-9477. <appell@\\ntheonramp.net>.\\nNational Organization for Albinism and Hypopigmentation\\n(NOAH). 1530 Locust St., #29, Philadelphia, PA 19102-\\n4415. (800) 473-2310. <http://www.albinism.org>.\\nCarol A. Turkington\\nAlbuterol see Bronchodilators\\nAlcohol-related \\nneurologic disease\\nDefinition\\nAlcohol, or ethanol, is a poison with direct toxic\\neffects on nerve and muscle cells. Depending on which\\nnerve and muscle pathways are involved, alcohol can\\nhave far-reaching effects on different parts of the brain,\\nperipheral nerves, and muscles, with symptoms of mem-\\nory loss, incoordination, seizures, weakness, and senso-\\nry deficits. These different effects can be grouped in\\nthree main categories: (1) intoxication due to the acute\\neffects of ethanol, (2) withdrawal syndrome from sud-\\ndenly stopping drinking, and (3) disorders related to\\nlong-term or chronic alcohol abuse. Alcohol-related\\nneurologic disease includes Wernicke-Korsakoff dis-\\nease, alcoholic cerebellar degeneration, alcoholic\\nmyopathy, alcoholic neuropathy, alcohol withdrawal\\nsyndrome with seizures and delirium tremens, and fetal\\nalcohol syndrome.\\nDescription\\nAcute excess intake of alcohol can cause drunken-\\nness (intoxication) or even death, and chronic or long-\\nterm abuse leads to potentially irreversible damage to\\nvirtually any level of the nervous system. Any given\\nGALE ENCYCLOPEDIA OF MEDICINE 2 91\\nAlbinism\\nGEM - 0001 to 0432 - A  10/22/03 1:41 PM  Page 91')]\n"
     ]
    }
   ],
   "source": [
    "# Extract the data from the PDF\n",
    "def load_pdf(data_path):\n",
    "    loader = DirectoryLoader(data_path, glob='*.pdf', loader_cls=PyPDFLoader)\n",
    "    return loader.load()\n",
    "\n",
    "extracted_data = load_pdf(data_path='../data/')\n",
    "print(f'Length of extracted data {len(extracted_data)}')\n",
    "print(extracted_data[99:105])"
   ]
  },
  {
   "cell_type": "code",
   "execution_count": 6,
   "metadata": {},
   "outputs": [
    {
     "name": "stdout",
     "output_type": "stream",
     "text": [
      "Length of text chunks 5860\n"
     ]
    },
    {
     "data": {
      "text/plain": [
       "[Document(metadata={'source': '..\\\\data\\\\medical_book.pdf', 'page': 18}, page_content='under most types of major medical insurance. As always,\\nthough, the patient would be wise to confirm that their\\ncoverage extends to the specific procedure proposed. For\\nnonemergency situations, most underwriters stipulate\\nprior approval as a condition of coverage.\\nSpecific conditions for which ultrasound may be\\nselected as a treatment option—certain types of tumors,\\nlesions,kidney stones and other calculi, muscle and lig-\\nament injuries, etc.—are described in detail under the'),\n",
       " Document(metadata={'source': '..\\\\data\\\\medical_book.pdf', 'page': 18}, page_content='appropriate entries in this encyclopedia.\\nPreparation\\nA patient undergoing abdominal ultrasound will be\\nadvised by their physician about what to expect and how\\nto prepare. As mentioned above, preparations generally\\ninclude fasting and arriving for the procedure with a full\\nbladder, if necessary. This preparation is particularly use-\\nful if the gallbladder, ovaries or veins are to be examined.\\nAftercare\\nIn general, no aftercare related to the abdominal\\nultrasound procedure itself is required.'),\n",
       " Document(metadata={'source': '..\\\\data\\\\medical_book.pdf', 'page': 18}, page_content='Risks\\nAbdominal ultrasound carries with it no recognized\\nrisks or side effects, if properly performed using appropri-\\nate frequency and intensity ranges. Sensitive tissues, par-\\nticularly those of the reproductive organs, could possibly\\nsustain damage if violently vibrated by overly intense\\nultrasound waves. In general though, such damage would\\nonly result from improper use of the equipment.\\nAny woman who thinks she might be pregnant\\nshould raise this issue with her doctor before undergoing'),\n",
       " Document(metadata={'source': '..\\\\data\\\\medical_book.pdf', 'page': 18}, page_content='an abdominal ultrasound, as a fetus in the early stages of\\ndevelopment could be injured by ultrasound meant to\\nprobe deeply recessed abdominal organs.\\nNormal results\\nAs a diagnostic imaging technique, a normal abdom-\\ninal ultrasound is one that indicates the absence of the\\nsuspected condition that prompted the scan. For example,\\nsymptoms such as a persistent cough, labored breathing,\\nand upper abdominal pain suggest the possibility of,\\namong other things, an abdominal aortic aneurysm. An'),\n",
       " Document(metadata={'source': '..\\\\data\\\\medical_book.pdf', 'page': 18}, page_content='ultrasound scan that indicates the absence of an aneurysm\\nwould rule out this life-threatening condition and point to\\nother, less serious causes.\\nAbnormal results\\nBecause abdominal ultrasound imaging is generally\\nundertaken to confirm a suspected condition, the results\\nof a scan often will prove abnormal—that is they will\\nconfirm the diagnosis, be it kidney stones, cirrhosis of\\nthe liver or an aortic aneurysm. At that point, appropriate'),\n",
       " Document(metadata={'source': '..\\\\data\\\\medical_book.pdf', 'page': 18}, page_content='medical treatment as prescribed by a patient’s doctor is in\\norder. See the relevant disease and disorder entries in this\\nencyclopedia for more information.\\nResources\\nBOOKS\\nHall, Rebecca. The Ultrasonic Handbook: Clinical, Etiologic\\nand Pathologic Implications of Sonographic Findings.\\nPhiladelphia: Lippincott, 1993.\\nKevles, Bettyann Holtzmann. Naked to the Bone: Medical\\nImaging in the Twentieth Century.New Brunswick, NJ:\\nRutgers University Press, 1997.')]"
      ]
     },
     "execution_count": 6,
     "metadata": {},
     "output_type": "execute_result"
    }
   ],
   "source": [
    "# Split the extracted data into text chunks\n",
    "def split_text(extracted_data):\n",
    "    text_splitter = RecursiveCharacterTextSplitter(chunk_size=500, chunk_overlap=20)\n",
    "    text_chunks = text_splitter.split_documents(extracted_data)\n",
    "    return text_chunks\n",
    "\n",
    "text_chunks = split_text(extracted_data)\n",
    "print(f'Length of text chunks {len(text_chunks)}')\n",
    "text_chunks[99:105]"
   ]
  },
  {
   "cell_type": "code",
   "execution_count": 8,
   "metadata": {},
   "outputs": [],
   "source": [
    "# text_chunks"
   ]
  },
  {
   "cell_type": "code",
   "execution_count": 14,
   "metadata": {},
   "outputs": [
    {
     "name": "stderr",
     "output_type": "stream",
     "text": [
      "C:\\Users\\saura\\AppData\\Local\\Temp\\ipykernel_107628\\4004143859.py:5: LangChainDeprecationWarning: The class `HuggingFaceEmbeddings` was deprecated in LangChain 0.2.2 and will be removed in 1.0. An updated version of the class exists in the langchain-huggingface package and should be used instead. To use it run `pip install -U langchain-huggingface` and import as `from langchain_huggingface import HuggingFaceEmbeddings`.\n",
      "  embeddings = HuggingFaceEmbeddings(model_name=model_name)\n"
     ]
    }
   ],
   "source": [
    "from langchain.embeddings import HuggingFaceEmbeddings\n",
    "\n",
    "# Download the embeddings model from Hugging Face\n",
    "def download_embeddings_model(model_name):\n",
    "    embeddings = HuggingFaceEmbeddings(model_name=model_name)\n",
    "    return embeddings\n",
    "\n",
    "embeddings = download_embeddings_model(model_name='sentence-transformers/all-MiniLM-L6-v2')  # 384"
   ]
  },
  {
   "cell_type": "code",
   "execution_count": 17,
   "metadata": {},
   "outputs": [
    {
     "data": {
      "text/plain": [
       "{'client': SentenceTransformer(\n",
       "   (0): Transformer({'max_seq_length': 256, 'do_lower_case': False}) with Transformer model: BertModel \n",
       "   (1): Pooling({'word_embedding_dimension': 384, 'pooling_mode_cls_token': False, 'pooling_mode_mean_tokens': True, 'pooling_mode_max_tokens': False, 'pooling_mode_mean_sqrt_len_tokens': False})\n",
       "   (2): Normalize()\n",
       " ),\n",
       " 'model_name': 'sentence-transformers/all-MiniLM-L6-v2',\n",
       " 'cache_folder': None,\n",
       " 'model_kwargs': {},\n",
       " 'encode_kwargs': {},\n",
       " 'multi_process': False,\n",
       " 'show_progress': False}"
      ]
     },
     "execution_count": 17,
     "metadata": {},
     "output_type": "execute_result"
    }
   ],
   "source": [
    "dict(embeddings)"
   ]
  },
  {
   "cell_type": "code",
   "execution_count": 18,
   "metadata": {},
   "outputs": [
    {
     "name": "stderr",
     "output_type": "stream",
     "text": [
      "c:\\Users\\saura\\anaconda3\\envs\\pyt_tf_venv38\\lib\\site-packages\\transformers\\models\\bert\\modeling_bert.py:440: UserWarning: 1Torch was not compiled with flash attention. (Triggered internally at C:\\cb\\pytorch_1000000000000\\work\\aten\\src\\ATen\\native\\transformers\\cuda\\sdp_utils.cpp:555.)\n",
      "  attn_output = torch.nn.functional.scaled_dot_product_attention(\n"
     ]
    },
    {
     "data": {
      "text/plain": [
       "[-0.0627717450261116,\n",
       " 0.05495885759592056,\n",
       " 0.05216481164097786,\n",
       " 0.0857900083065033,\n",
       " -0.08274893462657928]"
      ]
     },
     "execution_count": 18,
     "metadata": {},
     "output_type": "execute_result"
    }
   ],
   "source": [
    "embeddings.embed_query('hello')[0:5]"
   ]
  },
  {
   "cell_type": "code",
   "execution_count": 19,
   "metadata": {},
   "outputs": [
    {
     "name": "stdout",
     "output_type": "stream",
     "text": [
      "The embedding dimension for the model is 384.\n"
     ]
    },
    {
     "data": {
      "text/plain": [
       "array([-0.06277175,  0.05495886,  0.05216481,  0.08579001, -0.08274893],\n",
       "      dtype=float32)"
      ]
     },
     "execution_count": 19,
     "metadata": {},
     "output_type": "execute_result"
    }
   ],
   "source": [
    "# from sentence_transformers import SentenceTransformer\n",
    "\n",
    "# def download_embeddings_model(model_name):\n",
    "#     model = SentenceTransformer(model_name)\n",
    "#     return model\n",
    "\n",
    "# embeddings_sent_tranf = download_embeddings_model(model_name='sentence-transformers/all-MiniLM-L6-v2')\n",
    "# embed_dimension = embeddings_sent_tranf.get_sentence_embedding_dimension()\n",
    "\n",
    "# print(f\"The embedding dimension for the model is {embed_dimension}.\")\n",
    "\n",
    "# embeddings_sent_tranf.encode('hello')[0:5]\n"
   ]
  },
  {
   "cell_type": "code",
   "execution_count": 11,
   "metadata": {},
   "outputs": [],
   "source": [
    "import os\n",
    "from dotenv import load_dotenv\n",
    "load_dotenv()\n",
    "PINECON_API_KEY = os.getenv(\"PINECON_API_KEY\")\n",
    "\n",
    "# pinecon create index\n",
    "from pinecone.grpc import PineconeGRPC as Pinecone\n",
    "from pinecone import ServerlessSpec\n",
    "\n",
    "pc = Pinecone(api_key=PINECON_API_KEY)\n",
    "index_name = \"medibot\"\n",
    "\n",
    "pc.create_index(\n",
    "    name=index_name,\n",
    "    dimension=384, # Replace with your model dimension\n",
    "    metric=\"cosine\", # Replace with your model metric\n",
    "    spec=ServerlessSpec(\n",
    "        cloud=\"aws\",\n",
    "        region=\"us-east-1\"\n",
    "    ) \n",
    ")\n"
   ]
  },
  {
   "cell_type": "code",
   "execution_count": 12,
   "metadata": {},
   "outputs": [],
   "source": [
    "os.environ['PINECONE_API_KEY'] = PINECON_API_KEY"
   ]
  },
  {
   "cell_type": "code",
   "execution_count": 21,
   "metadata": {},
   "outputs": [],
   "source": [
    "# Embed each chunk and upsert the embeddings to Pinecone index\n",
    "from langchain_pinecone import PineconeVectorStore\n",
    "\n",
    "docsearch = PineconeVectorStore.from_documents(\n",
    "    documents=text_chunks,\n",
    "    index_name=index_name,\n",
    "    embedding=embeddings,\n",
    ")"
   ]
  },
  {
   "cell_type": "code",
   "execution_count": 22,
   "metadata": {},
   "outputs": [
    {
     "data": {
      "text/plain": [
       "<langchain_pinecone.vectorstores.PineconeVectorStore at 0x1fd9bfeed60>"
      ]
     },
     "execution_count": 22,
     "metadata": {},
     "output_type": "execute_result"
    }
   ],
   "source": [
    "# Load exsiting pincone index\n",
    "docsearch = PineconeVectorStore.from_existing_index(\n",
    "    index_name=index_name,\n",
    "    embedding=embeddings,)\n",
    "docsearch"
   ]
  },
  {
   "cell_type": "code",
   "execution_count": 24,
   "metadata": {},
   "outputs": [
    {
     "data": {
      "text/plain": [
       "[Document(metadata={'page': 319.0, 'source': '..\\\\data\\\\medical_book.pdf'}, page_content='Inflammation—A process occurring in body tissues,\\ncharacterized by increased circulation and the\\naccumulation of white blood cells. Inflammation\\nalso occurs in disorders such as arthritis and causes\\nharmful effects.\\nInflammatory—Pertaining to inflammation.\\nImmune response —Physiological response of the\\nbody controlled by the immune system that\\ninvolves the production of antibodies to fight off\\nspecific foreign substances or agents (antigens).\\nImmune system —The sum of the defence mecha-'),\n",
       " Document(metadata={'page': 615.0, 'source': '..\\\\data\\\\medical_book.pdf'}, page_content='swelling, pain, and other symptoms of inflamma-\\ntion.\\nBronchitis —Inflammation of the air passages of\\nthe lungs.\\nChronic—A word used to describe a long-lasting\\ncondition. Chronic conditions often develop grad-\\nually and involve slow changes.\\nEmphysema —A lung disease in which breathing\\nbecomes difficult.\\nInflammation —Pain, redness, swelling, and heat\\nthat usually develop in response to injury or ill-\\nness.\\nNebulizer —A device that turns liquid forms of'),\n",
       " Document(metadata={'page': 328.0, 'source': '..\\\\data\\\\medical_book.pdf'}, page_content='hyperacidity, and the occurrence of gastrinomas of\\nthe pancreatic cells of the islets of Langerhans.\\nInflammation —Pain, redness, swelling, and heat\\nthat usually develop in response to injury or ill-\\nness.\\nMucous—Thick fluid produced by the moist mem-\\nbranes that line many body cavities and structures.\\nNonsteroidal anti-inflammatory drug (NSAID) —\\nA type of medicine used to relieve pain, swelling,\\nand other symptoms of inflammation, such as\\nibuprofen or ketoprofen.\\nAntiviral drugs\\nDefinition')]"
      ]
     },
     "execution_count": 24,
     "metadata": {},
     "output_type": "execute_result"
    }
   ],
   "source": [
    "retriever_example = docsearch.as_retriever(search_type='similarity', search_kwargs={'k': 3})\n",
    "retriever_example.invoke('What is inflammation?')"
   ]
  },
  {
   "cell_type": "code",
   "execution_count": 25,
   "metadata": {},
   "outputs": [],
   "source": [
    "from langchain import PromptTemplate\n",
    "\n",
    "prompt_template=\"\"\"\n",
    "Use the following pieces of information to answer the user's question.\n",
    "If you don't know the answer, just say that you don't know, don't try to make up an answer.\n",
    "\n",
    "Context: {context}\n",
    "Question: {question}\n",
    "\n",
    "Only return the helpful answer below and nothing else.\n",
    "Helpful answer:\n",
    "\"\"\"\n",
    "\n",
    "PROMPT=PromptTemplate(template=prompt_template, input_variables=[\"context\", \"question\"])\n",
    "chain_type_kwargs={\"prompt\": PROMPT}\n"
   ]
  },
  {
   "cell_type": "code",
   "execution_count": 35,
   "metadata": {},
   "outputs": [],
   "source": [
    "from langchain.llms import CTransformers\n",
    "llm=CTransformers(model=\"../model/llama-2-7b-chat.ggmlv3.q4_0.bin\",\n",
    "                  model_type=\"llama\",\n",
    "                  config={'max_new_tokens':512,\n",
    "                          'temperature':0.8})"
   ]
  },
  {
   "cell_type": "code",
   "execution_count": 36,
   "metadata": {},
   "outputs": [],
   "source": [
    "from langchain.chains import RetrievalQA\n",
    "\n",
    "qa = RetrievalQA.from_chain_type(\n",
    "        llm=llm, \n",
    "        chain_type=\"stuff\", \n",
    "        retriever=docsearch.as_retriever(search_kwargs={'k': 2}),\n",
    "        return_source_documents=True, \n",
    "        chain_type_kwargs=chain_type_kwargs\n",
    "        )"
   ]
  },
  {
   "cell_type": "code",
   "execution_count": 37,
   "metadata": {},
   "outputs": [
    {
     "name": "stdout",
     "output_type": "stream",
     "text": [
      "Response :  Inflammation is a process occurring in body tissues, characterized by increased circulation and the accumulation of white blood cells. It can occur in response to injury or illness and is typically associated with symptoms such as swelling, redness, heat, and pain.\n"
     ]
    }
   ],
   "source": [
    "# while True::\n",
    "user_input=input(f\"Input Prompt:\")\n",
    "result=qa.invoke({\"query\": user_input})\n",
    "print(\"Response : \", result[\"result\"])"
   ]
  },
  {
   "cell_type": "code",
   "execution_count": null,
   "metadata": {},
   "outputs": [],
   "source": []
  }
 ],
 "metadata": {
  "kernelspec": {
   "display_name": "pyt_tf_venv38",
   "language": "python",
   "name": "python3"
  },
  "language_info": {
   "codemirror_mode": {
    "name": "ipython",
    "version": 3
   },
   "file_extension": ".py",
   "mimetype": "text/x-python",
   "name": "python",
   "nbconvert_exporter": "python",
   "pygments_lexer": "ipython3",
   "version": "3.8.20"
  }
 },
 "nbformat": 4,
 "nbformat_minor": 2
}
